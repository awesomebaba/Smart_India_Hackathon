{
 "cells": [
  {
   "cell_type": "code",
   "execution_count": 1,
   "id": "daaff26d-6290-4eb8-88c7-68443f9c8ade",
   "metadata": {},
   "outputs": [],
   "source": [
    "import numpy as np \n",
    "import pandas as pd\n",
    "import matplotlib.pyplot as plt\n",
    "import seaborn as sns \n",
    "import datetime as dt"
   ]
  },
  {
   "cell_type": "code",
   "execution_count": 2,
   "id": "c82aa816-ecc1-4d75-be22-4f5b2e39ed2c",
   "metadata": {},
   "outputs": [],
   "source": [
    "df = pd.read_csv('filtered_vessel_data.csv')"
   ]
  },
  {
   "cell_type": "code",
   "execution_count": 3,
   "id": "6c5b5261-6c4e-4e3c-962f-849347c9b54d",
   "metadata": {},
   "outputs": [
    {
     "data": {
      "text/html": [
       "<div>\n",
       "<style scoped>\n",
       "    .dataframe tbody tr th:only-of-type {\n",
       "        vertical-align: middle;\n",
       "    }\n",
       "\n",
       "    .dataframe tbody tr th {\n",
       "        vertical-align: top;\n",
       "    }\n",
       "\n",
       "    .dataframe thead th {\n",
       "        text-align: right;\n",
       "    }\n",
       "</style>\n",
       "<table border=\"1\" class=\"dataframe\">\n",
       "  <thead>\n",
       "    <tr style=\"text-align: right;\">\n",
       "      <th></th>\n",
       "      <th>MMSI</th>\n",
       "      <th>BaseDateTime</th>\n",
       "      <th>LAT</th>\n",
       "      <th>LON</th>\n",
       "      <th>SOG</th>\n",
       "      <th>COG</th>\n",
       "      <th>Heading</th>\n",
       "      <th>VesselName</th>\n",
       "      <th>IMO</th>\n",
       "      <th>CallSign</th>\n",
       "      <th>VesselType</th>\n",
       "      <th>Status</th>\n",
       "      <th>Length</th>\n",
       "      <th>Width</th>\n",
       "      <th>Draft</th>\n",
       "      <th>Cargo</th>\n",
       "      <th>TransceiverClass</th>\n",
       "    </tr>\n",
       "  </thead>\n",
       "  <tbody>\n",
       "    <tr>\n",
       "      <th>0</th>\n",
       "      <td>538007181</td>\n",
       "      <td>2024-01-01T00:00:00</td>\n",
       "      <td>32.61859</td>\n",
       "      <td>-118.21503</td>\n",
       "      <td>10.7</td>\n",
       "      <td>255.5</td>\n",
       "      <td>255.0</td>\n",
       "      <td>LEICESTER</td>\n",
       "      <td>IMO9792266</td>\n",
       "      <td>V7XE6</td>\n",
       "      <td>80.0</td>\n",
       "      <td>0.0</td>\n",
       "      <td>333.0</td>\n",
       "      <td>60.0</td>\n",
       "      <td>13.7</td>\n",
       "      <td>80.0</td>\n",
       "      <td>A</td>\n",
       "    </tr>\n",
       "    <tr>\n",
       "      <th>1</th>\n",
       "      <td>538007181</td>\n",
       "      <td>2024-01-01T00:01:11</td>\n",
       "      <td>32.61773</td>\n",
       "      <td>-118.21916</td>\n",
       "      <td>10.9</td>\n",
       "      <td>253.7</td>\n",
       "      <td>255.0</td>\n",
       "      <td>LEICESTER</td>\n",
       "      <td>IMO9792266</td>\n",
       "      <td>V7XE6</td>\n",
       "      <td>80.0</td>\n",
       "      <td>0.0</td>\n",
       "      <td>333.0</td>\n",
       "      <td>60.0</td>\n",
       "      <td>13.7</td>\n",
       "      <td>80.0</td>\n",
       "      <td>A</td>\n",
       "    </tr>\n",
       "    <tr>\n",
       "      <th>2</th>\n",
       "      <td>538007181</td>\n",
       "      <td>2024-01-01T00:02:19</td>\n",
       "      <td>32.61685</td>\n",
       "      <td>-118.22330</td>\n",
       "      <td>10.9</td>\n",
       "      <td>257.2</td>\n",
       "      <td>255.0</td>\n",
       "      <td>LEICESTER</td>\n",
       "      <td>IMO9792266</td>\n",
       "      <td>V7XE6</td>\n",
       "      <td>80.0</td>\n",
       "      <td>0.0</td>\n",
       "      <td>333.0</td>\n",
       "      <td>60.0</td>\n",
       "      <td>13.7</td>\n",
       "      <td>80.0</td>\n",
       "      <td>A</td>\n",
       "    </tr>\n",
       "    <tr>\n",
       "      <th>3</th>\n",
       "      <td>538007181</td>\n",
       "      <td>2024-01-01T00:03:20</td>\n",
       "      <td>32.61617</td>\n",
       "      <td>-118.22657</td>\n",
       "      <td>11.0</td>\n",
       "      <td>256.0</td>\n",
       "      <td>255.0</td>\n",
       "      <td>LEICESTER</td>\n",
       "      <td>IMO9792266</td>\n",
       "      <td>V7XE6</td>\n",
       "      <td>80.0</td>\n",
       "      <td>0.0</td>\n",
       "      <td>333.0</td>\n",
       "      <td>60.0</td>\n",
       "      <td>13.7</td>\n",
       "      <td>80.0</td>\n",
       "      <td>A</td>\n",
       "    </tr>\n",
       "    <tr>\n",
       "      <th>4</th>\n",
       "      <td>538007181</td>\n",
       "      <td>2024-01-01T00:04:29</td>\n",
       "      <td>32.61526</td>\n",
       "      <td>-118.23072</td>\n",
       "      <td>10.9</td>\n",
       "      <td>256.2</td>\n",
       "      <td>255.0</td>\n",
       "      <td>LEICESTER</td>\n",
       "      <td>IMO9792266</td>\n",
       "      <td>V7XE6</td>\n",
       "      <td>80.0</td>\n",
       "      <td>0.0</td>\n",
       "      <td>333.0</td>\n",
       "      <td>60.0</td>\n",
       "      <td>13.7</td>\n",
       "      <td>80.0</td>\n",
       "      <td>A</td>\n",
       "    </tr>\n",
       "    <tr>\n",
       "      <th>...</th>\n",
       "      <td>...</td>\n",
       "      <td>...</td>\n",
       "      <td>...</td>\n",
       "      <td>...</td>\n",
       "      <td>...</td>\n",
       "      <td>...</td>\n",
       "      <td>...</td>\n",
       "      <td>...</td>\n",
       "      <td>...</td>\n",
       "      <td>...</td>\n",
       "      <td>...</td>\n",
       "      <td>...</td>\n",
       "      <td>...</td>\n",
       "      <td>...</td>\n",
       "      <td>...</td>\n",
       "      <td>...</td>\n",
       "      <td>...</td>\n",
       "    </tr>\n",
       "    <tr>\n",
       "      <th>2512</th>\n",
       "      <td>538007181</td>\n",
       "      <td>2024-01-03T02:52:43</td>\n",
       "      <td>28.79316</td>\n",
       "      <td>-117.03968</td>\n",
       "      <td>16.0</td>\n",
       "      <td>141.7</td>\n",
       "      <td>144.0</td>\n",
       "      <td>LEICESTER</td>\n",
       "      <td>IMO9792266</td>\n",
       "      <td>V7XE6</td>\n",
       "      <td>80.0</td>\n",
       "      <td>0.0</td>\n",
       "      <td>333.0</td>\n",
       "      <td>60.0</td>\n",
       "      <td>11.0</td>\n",
       "      <td>80.0</td>\n",
       "      <td>A</td>\n",
       "    </tr>\n",
       "    <tr>\n",
       "      <th>2513</th>\n",
       "      <td>538007181</td>\n",
       "      <td>2024-01-03T03:02:13</td>\n",
       "      <td>28.75962</td>\n",
       "      <td>-117.01112</td>\n",
       "      <td>15.9</td>\n",
       "      <td>143.1</td>\n",
       "      <td>145.0</td>\n",
       "      <td>LEICESTER</td>\n",
       "      <td>IMO9792266</td>\n",
       "      <td>V7XE6</td>\n",
       "      <td>80.0</td>\n",
       "      <td>0.0</td>\n",
       "      <td>333.0</td>\n",
       "      <td>60.0</td>\n",
       "      <td>11.0</td>\n",
       "      <td>80.0</td>\n",
       "      <td>A</td>\n",
       "    </tr>\n",
       "    <tr>\n",
       "      <th>2514</th>\n",
       "      <td>538007181</td>\n",
       "      <td>2024-01-03T03:03:26</td>\n",
       "      <td>28.75495</td>\n",
       "      <td>-117.00720</td>\n",
       "      <td>15.9</td>\n",
       "      <td>144.0</td>\n",
       "      <td>145.0</td>\n",
       "      <td>LEICESTER</td>\n",
       "      <td>IMO9792266</td>\n",
       "      <td>V7XE6</td>\n",
       "      <td>80.0</td>\n",
       "      <td>0.0</td>\n",
       "      <td>333.0</td>\n",
       "      <td>60.0</td>\n",
       "      <td>11.0</td>\n",
       "      <td>80.0</td>\n",
       "      <td>A</td>\n",
       "    </tr>\n",
       "    <tr>\n",
       "      <th>2515</th>\n",
       "      <td>538007181</td>\n",
       "      <td>2024-01-03T03:04:31</td>\n",
       "      <td>28.75098</td>\n",
       "      <td>-117.00385</td>\n",
       "      <td>16.0</td>\n",
       "      <td>142.3</td>\n",
       "      <td>145.0</td>\n",
       "      <td>LEICESTER</td>\n",
       "      <td>IMO9792266</td>\n",
       "      <td>V7XE6</td>\n",
       "      <td>80.0</td>\n",
       "      <td>0.0</td>\n",
       "      <td>333.0</td>\n",
       "      <td>60.0</td>\n",
       "      <td>11.0</td>\n",
       "      <td>80.0</td>\n",
       "      <td>A</td>\n",
       "    </tr>\n",
       "    <tr>\n",
       "      <th>2516</th>\n",
       "      <td>538007181</td>\n",
       "      <td>2024-01-03T03:08:02</td>\n",
       "      <td>28.73841</td>\n",
       "      <td>-116.99334</td>\n",
       "      <td>16.0</td>\n",
       "      <td>143.3</td>\n",
       "      <td>145.0</td>\n",
       "      <td>LEICESTER</td>\n",
       "      <td>IMO9792266</td>\n",
       "      <td>V7XE6</td>\n",
       "      <td>80.0</td>\n",
       "      <td>0.0</td>\n",
       "      <td>333.0</td>\n",
       "      <td>60.0</td>\n",
       "      <td>11.0</td>\n",
       "      <td>80.0</td>\n",
       "      <td>A</td>\n",
       "    </tr>\n",
       "  </tbody>\n",
       "</table>\n",
       "<p>2517 rows × 17 columns</p>\n",
       "</div>"
      ],
      "text/plain": [
       "           MMSI         BaseDateTime       LAT        LON   SOG    COG  \\\n",
       "0     538007181  2024-01-01T00:00:00  32.61859 -118.21503  10.7  255.5   \n",
       "1     538007181  2024-01-01T00:01:11  32.61773 -118.21916  10.9  253.7   \n",
       "2     538007181  2024-01-01T00:02:19  32.61685 -118.22330  10.9  257.2   \n",
       "3     538007181  2024-01-01T00:03:20  32.61617 -118.22657  11.0  256.0   \n",
       "4     538007181  2024-01-01T00:04:29  32.61526 -118.23072  10.9  256.2   \n",
       "...         ...                  ...       ...        ...   ...    ...   \n",
       "2512  538007181  2024-01-03T02:52:43  28.79316 -117.03968  16.0  141.7   \n",
       "2513  538007181  2024-01-03T03:02:13  28.75962 -117.01112  15.9  143.1   \n",
       "2514  538007181  2024-01-03T03:03:26  28.75495 -117.00720  15.9  144.0   \n",
       "2515  538007181  2024-01-03T03:04:31  28.75098 -117.00385  16.0  142.3   \n",
       "2516  538007181  2024-01-03T03:08:02  28.73841 -116.99334  16.0  143.3   \n",
       "\n",
       "      Heading VesselName         IMO CallSign  VesselType  Status  Length  \\\n",
       "0       255.0  LEICESTER  IMO9792266    V7XE6        80.0     0.0   333.0   \n",
       "1       255.0  LEICESTER  IMO9792266    V7XE6        80.0     0.0   333.0   \n",
       "2       255.0  LEICESTER  IMO9792266    V7XE6        80.0     0.0   333.0   \n",
       "3       255.0  LEICESTER  IMO9792266    V7XE6        80.0     0.0   333.0   \n",
       "4       255.0  LEICESTER  IMO9792266    V7XE6        80.0     0.0   333.0   \n",
       "...       ...        ...         ...      ...         ...     ...     ...   \n",
       "2512    144.0  LEICESTER  IMO9792266    V7XE6        80.0     0.0   333.0   \n",
       "2513    145.0  LEICESTER  IMO9792266    V7XE6        80.0     0.0   333.0   \n",
       "2514    145.0  LEICESTER  IMO9792266    V7XE6        80.0     0.0   333.0   \n",
       "2515    145.0  LEICESTER  IMO9792266    V7XE6        80.0     0.0   333.0   \n",
       "2516    145.0  LEICESTER  IMO9792266    V7XE6        80.0     0.0   333.0   \n",
       "\n",
       "      Width  Draft  Cargo TransceiverClass  \n",
       "0      60.0   13.7   80.0                A  \n",
       "1      60.0   13.7   80.0                A  \n",
       "2      60.0   13.7   80.0                A  \n",
       "3      60.0   13.7   80.0                A  \n",
       "4      60.0   13.7   80.0                A  \n",
       "...     ...    ...    ...              ...  \n",
       "2512   60.0   11.0   80.0                A  \n",
       "2513   60.0   11.0   80.0                A  \n",
       "2514   60.0   11.0   80.0                A  \n",
       "2515   60.0   11.0   80.0                A  \n",
       "2516   60.0   11.0   80.0                A  \n",
       "\n",
       "[2517 rows x 17 columns]"
      ]
     },
     "execution_count": 3,
     "metadata": {},
     "output_type": "execute_result"
    }
   ],
   "source": [
    "df"
   ]
  },
  {
   "cell_type": "code",
   "execution_count": 4,
   "id": "0e4b5c7d-be01-45d2-a141-71642ca55c43",
   "metadata": {},
   "outputs": [
    {
     "data": {
      "text/plain": [
       "Index(['MMSI', 'BaseDateTime', 'LAT', 'LON', 'SOG', 'COG', 'Heading',\n",
       "       'VesselName', 'IMO', 'CallSign', 'VesselType', 'Status', 'Length',\n",
       "       'Width', 'Draft', 'Cargo', 'TransceiverClass'],\n",
       "      dtype='object')"
      ]
     },
     "execution_count": 4,
     "metadata": {},
     "output_type": "execute_result"
    }
   ],
   "source": [
    "df.columns"
   ]
  },
  {
   "cell_type": "code",
   "execution_count": 5,
   "id": "4717cfd5-177a-468d-aa63-971db3ca097e",
   "metadata": {},
   "outputs": [
    {
     "name": "stdout",
     "output_type": "stream",
     "text": [
      "        MMSI         BaseDateTime       LAT        LON   SOG    COG  Heading  \\\n",
      "0  538007181  2024-01-01T00:00:00  32.61859 -118.21503  10.7  255.5    255.0   \n",
      "1  538007181  2024-01-01T00:01:11  32.61773 -118.21916  10.9  253.7    255.0   \n",
      "2  538007181  2024-01-01T00:02:19  32.61685 -118.22330  10.9  257.2    255.0   \n",
      "3  538007181  2024-01-01T00:03:20  32.61617 -118.22657  11.0  256.0    255.0   \n",
      "4  538007181  2024-01-01T00:04:29  32.61526 -118.23072  10.9  256.2    255.0   \n",
      "\n",
      "   Status  Draft  \n",
      "0     0.0   13.7  \n",
      "1     0.0   13.7  \n",
      "2     0.0   13.7  \n",
      "3     0.0   13.7  \n",
      "4     0.0   13.7  \n"
     ]
    }
   ],
   "source": [
    "columns_to_drop = ['VesselName', 'IMO', 'CallSign', 'Width', 'Cargo', 'TransceiverClass','VesselType','Length']\n",
    "df = df.drop(columns=columns_to_drop)\n",
    "print(df.head())"
   ]
  },
  {
   "cell_type": "code",
   "execution_count": 6,
   "id": "4cea9020-bee6-4313-b970-517d2c0da3e6",
   "metadata": {},
   "outputs": [
    {
     "data": {
      "text/plain": [
       "MMSI            0\n",
       "BaseDateTime    0\n",
       "LAT             0\n",
       "LON             0\n",
       "SOG             0\n",
       "COG             0\n",
       "Heading         0\n",
       "Status          0\n",
       "Draft           0\n",
       "dtype: int64"
      ]
     },
     "execution_count": 6,
     "metadata": {},
     "output_type": "execute_result"
    }
   ],
   "source": [
    "df.isnull().sum()\n",
    "#hence no missing values"
   ]
  },
  {
   "cell_type": "code",
   "execution_count": 7,
   "id": "b5305150-4738-407e-b771-a44a1ccae751",
   "metadata": {},
   "outputs": [
    {
     "name": "stdout",
     "output_type": "stream",
     "text": [
      "0   2024-01-01 00:00:00\n",
      "1   2024-01-01 00:01:11\n",
      "2   2024-01-01 00:02:19\n",
      "3   2024-01-01 00:03:20\n",
      "4   2024-01-01 00:04:29\n",
      "Name: BaseDateTime, dtype: datetime64[ns]\n"
     ]
    }
   ],
   "source": [
    "df['BaseDateTime'] = pd.to_datetime(df['BaseDateTime'], format='%Y-%m-%dT%H:%M:%S')\n",
    "\n",
    "# Verify the conversion\n",
    "print(df['BaseDateTime'].head())"
   ]
  },
  {
   "cell_type": "code",
   "execution_count": 8,
   "id": "304554ad-c8a2-4e69-85d2-17ac2d69f4d2",
   "metadata": {},
   "outputs": [],
   "source": [
    "df.drop_duplicates(inplace=True)"
   ]
  },
  {
   "cell_type": "code",
   "execution_count": 9,
   "id": "9667449d-5652-4769-815a-9965ba478cb2",
   "metadata": {},
   "outputs": [
    {
     "data": {
      "text/html": [
       "<div>\n",
       "<style scoped>\n",
       "    .dataframe tbody tr th:only-of-type {\n",
       "        vertical-align: middle;\n",
       "    }\n",
       "\n",
       "    .dataframe tbody tr th {\n",
       "        vertical-align: top;\n",
       "    }\n",
       "\n",
       "    .dataframe thead th {\n",
       "        text-align: right;\n",
       "    }\n",
       "</style>\n",
       "<table border=\"1\" class=\"dataframe\">\n",
       "  <thead>\n",
       "    <tr style=\"text-align: right;\">\n",
       "      <th></th>\n",
       "      <th>MMSI</th>\n",
       "      <th>BaseDateTime</th>\n",
       "      <th>LAT</th>\n",
       "      <th>LON</th>\n",
       "      <th>SOG</th>\n",
       "      <th>COG</th>\n",
       "      <th>Heading</th>\n",
       "      <th>Status</th>\n",
       "      <th>Draft</th>\n",
       "    </tr>\n",
       "  </thead>\n",
       "  <tbody>\n",
       "    <tr>\n",
       "      <th>0</th>\n",
       "      <td>538007181</td>\n",
       "      <td>2024-01-01 00:00:00</td>\n",
       "      <td>32.61859</td>\n",
       "      <td>-118.21503</td>\n",
       "      <td>10.7</td>\n",
       "      <td>255.5</td>\n",
       "      <td>255.0</td>\n",
       "      <td>0.0</td>\n",
       "      <td>13.7</td>\n",
       "    </tr>\n",
       "    <tr>\n",
       "      <th>1</th>\n",
       "      <td>538007181</td>\n",
       "      <td>2024-01-01 00:01:11</td>\n",
       "      <td>32.61773</td>\n",
       "      <td>-118.21916</td>\n",
       "      <td>10.9</td>\n",
       "      <td>253.7</td>\n",
       "      <td>255.0</td>\n",
       "      <td>0.0</td>\n",
       "      <td>13.7</td>\n",
       "    </tr>\n",
       "    <tr>\n",
       "      <th>2</th>\n",
       "      <td>538007181</td>\n",
       "      <td>2024-01-01 00:02:19</td>\n",
       "      <td>32.61685</td>\n",
       "      <td>-118.22330</td>\n",
       "      <td>10.9</td>\n",
       "      <td>257.2</td>\n",
       "      <td>255.0</td>\n",
       "      <td>0.0</td>\n",
       "      <td>13.7</td>\n",
       "    </tr>\n",
       "    <tr>\n",
       "      <th>3</th>\n",
       "      <td>538007181</td>\n",
       "      <td>2024-01-01 00:03:20</td>\n",
       "      <td>32.61617</td>\n",
       "      <td>-118.22657</td>\n",
       "      <td>11.0</td>\n",
       "      <td>256.0</td>\n",
       "      <td>255.0</td>\n",
       "      <td>0.0</td>\n",
       "      <td>13.7</td>\n",
       "    </tr>\n",
       "    <tr>\n",
       "      <th>4</th>\n",
       "      <td>538007181</td>\n",
       "      <td>2024-01-01 00:04:29</td>\n",
       "      <td>32.61526</td>\n",
       "      <td>-118.23072</td>\n",
       "      <td>10.9</td>\n",
       "      <td>256.2</td>\n",
       "      <td>255.0</td>\n",
       "      <td>0.0</td>\n",
       "      <td>13.7</td>\n",
       "    </tr>\n",
       "    <tr>\n",
       "      <th>...</th>\n",
       "      <td>...</td>\n",
       "      <td>...</td>\n",
       "      <td>...</td>\n",
       "      <td>...</td>\n",
       "      <td>...</td>\n",
       "      <td>...</td>\n",
       "      <td>...</td>\n",
       "      <td>...</td>\n",
       "      <td>...</td>\n",
       "    </tr>\n",
       "    <tr>\n",
       "      <th>2512</th>\n",
       "      <td>538007181</td>\n",
       "      <td>2024-01-03 02:52:43</td>\n",
       "      <td>28.79316</td>\n",
       "      <td>-117.03968</td>\n",
       "      <td>16.0</td>\n",
       "      <td>141.7</td>\n",
       "      <td>144.0</td>\n",
       "      <td>0.0</td>\n",
       "      <td>11.0</td>\n",
       "    </tr>\n",
       "    <tr>\n",
       "      <th>2513</th>\n",
       "      <td>538007181</td>\n",
       "      <td>2024-01-03 03:02:13</td>\n",
       "      <td>28.75962</td>\n",
       "      <td>-117.01112</td>\n",
       "      <td>15.9</td>\n",
       "      <td>143.1</td>\n",
       "      <td>145.0</td>\n",
       "      <td>0.0</td>\n",
       "      <td>11.0</td>\n",
       "    </tr>\n",
       "    <tr>\n",
       "      <th>2514</th>\n",
       "      <td>538007181</td>\n",
       "      <td>2024-01-03 03:03:26</td>\n",
       "      <td>28.75495</td>\n",
       "      <td>-117.00720</td>\n",
       "      <td>15.9</td>\n",
       "      <td>144.0</td>\n",
       "      <td>145.0</td>\n",
       "      <td>0.0</td>\n",
       "      <td>11.0</td>\n",
       "    </tr>\n",
       "    <tr>\n",
       "      <th>2515</th>\n",
       "      <td>538007181</td>\n",
       "      <td>2024-01-03 03:04:31</td>\n",
       "      <td>28.75098</td>\n",
       "      <td>-117.00385</td>\n",
       "      <td>16.0</td>\n",
       "      <td>142.3</td>\n",
       "      <td>145.0</td>\n",
       "      <td>0.0</td>\n",
       "      <td>11.0</td>\n",
       "    </tr>\n",
       "    <tr>\n",
       "      <th>2516</th>\n",
       "      <td>538007181</td>\n",
       "      <td>2024-01-03 03:08:02</td>\n",
       "      <td>28.73841</td>\n",
       "      <td>-116.99334</td>\n",
       "      <td>16.0</td>\n",
       "      <td>143.3</td>\n",
       "      <td>145.0</td>\n",
       "      <td>0.0</td>\n",
       "      <td>11.0</td>\n",
       "    </tr>\n",
       "  </tbody>\n",
       "</table>\n",
       "<p>2517 rows × 9 columns</p>\n",
       "</div>"
      ],
      "text/plain": [
       "           MMSI        BaseDateTime       LAT        LON   SOG    COG  \\\n",
       "0     538007181 2024-01-01 00:00:00  32.61859 -118.21503  10.7  255.5   \n",
       "1     538007181 2024-01-01 00:01:11  32.61773 -118.21916  10.9  253.7   \n",
       "2     538007181 2024-01-01 00:02:19  32.61685 -118.22330  10.9  257.2   \n",
       "3     538007181 2024-01-01 00:03:20  32.61617 -118.22657  11.0  256.0   \n",
       "4     538007181 2024-01-01 00:04:29  32.61526 -118.23072  10.9  256.2   \n",
       "...         ...                 ...       ...        ...   ...    ...   \n",
       "2512  538007181 2024-01-03 02:52:43  28.79316 -117.03968  16.0  141.7   \n",
       "2513  538007181 2024-01-03 03:02:13  28.75962 -117.01112  15.9  143.1   \n",
       "2514  538007181 2024-01-03 03:03:26  28.75495 -117.00720  15.9  144.0   \n",
       "2515  538007181 2024-01-03 03:04:31  28.75098 -117.00385  16.0  142.3   \n",
       "2516  538007181 2024-01-03 03:08:02  28.73841 -116.99334  16.0  143.3   \n",
       "\n",
       "      Heading  Status  Draft  \n",
       "0       255.0     0.0   13.7  \n",
       "1       255.0     0.0   13.7  \n",
       "2       255.0     0.0   13.7  \n",
       "3       255.0     0.0   13.7  \n",
       "4       255.0     0.0   13.7  \n",
       "...       ...     ...    ...  \n",
       "2512    144.0     0.0   11.0  \n",
       "2513    145.0     0.0   11.0  \n",
       "2514    145.0     0.0   11.0  \n",
       "2515    145.0     0.0   11.0  \n",
       "2516    145.0     0.0   11.0  \n",
       "\n",
       "[2517 rows x 9 columns]"
      ]
     },
     "execution_count": 9,
     "metadata": {},
     "output_type": "execute_result"
    }
   ],
   "source": [
    "df"
   ]
  },
  {
   "cell_type": "code",
   "execution_count": 10,
   "id": "8ca177cd-0f2b-4752-8f6f-7ecce871abb5",
   "metadata": {},
   "outputs": [
    {
     "data": {
      "image/png": "[encoded data removed]",
      "text/plain": [
       "<Figure size 640x480 with 1 Axes>"
      ]
     },
     "metadata": {},
     "output_type": "display_data"
    }
   ],
   "source": [
    "sns.boxplot(x=df['SOG'])\n",
    "plt.show()"
   ]
  },
  {
   "cell_type": "code",
   "execution_count": 11,
   "id": "f2659ba6-9825-48f3-ab8c-5309fe3f140b",
   "metadata": {},
   "outputs": [],
   "source": [
    "#No OUTLIERs"
   ]
  },
  {
   "cell_type": "code",
   "execution_count": 12,
   "id": "dd195e70-1c81-4820-ba43-03033caa8dd1",
   "metadata": {},
   "outputs": [
    {
     "data": {
      "image/png": "[encoded data removed]",
      "text/plain": [
       "<Figure size 640x480 with 1 Axes>"
      ]
     },
     "metadata": {},
     "output_type": "display_data"
    }
   ],
   "source": [
    "sns.boxplot(x=df['COG'])\n",
    "plt.show()"
   ]
  },
  {
   "cell_type": "code",
   "execution_count": 13,
   "id": "bf5bdfc1-c1e1-4faa-88da-df1cf3426b5d",
   "metadata": {},
   "outputs": [],
   "source": [
    "#oUTLIERS DETECTED"
   ]
  },
  {
   "cell_type": "code",
   "execution_count": 14,
   "id": "32653eb5-e122-48d9-9cf6-972917a33fd8",
   "metadata": {},
   "outputs": [
    {
     "data": {
      "text/plain": [
       "Index(['MMSI', 'BaseDateTime', 'LAT', 'LON', 'SOG', 'COG', 'Heading', 'Status',\n",
       "       'Draft'],\n",
       "      dtype='object')"
      ]
     },
     "execution_count": 14,
     "metadata": {},
     "output_type": "execute_result"
    }
   ],
   "source": [
    "df.columns"
   ]
  },
  {
   "cell_type": "code",
   "execution_count": 15,
   "id": "9bd31288-aae6-4284-86aa-108b23ad2ede",
   "metadata": {},
   "outputs": [],
   "source": [
    "import warnings\n",
    "warnings.filterwarnings('ignore')\n",
    "from sklearn.ensemble import IsolationForest"
   ]
  },
  {
   "cell_type": "code",
   "execution_count": 24,
   "id": "379c7993-13e2-4eca-aadd-945945703f7a",
   "metadata": {},
   "outputs": [
    {
     "name": "stdout",
     "output_type": "stream",
     "text": [
      "{'bootstrap': False, 'contamination': 0.5, 'max_features': 1.0, 'max_samples': 'auto', 'n_estimators': 100, 'n_jobs': None, 'random_state': 42, 'verbose': 0, 'warm_start': False}\n"
     ]
    }
   ],
   "source": [
    "from sklearn.ensemble import IsolationForest\n",
    "\n",
    "model = IsolationForest(n_estimators=100, max_samples='auto', contamination=0.5, random_state=42)\n",
    "df['BaseDateTime'] = df['BaseDateTime'].astype('int64') // 10**9  \n",
    "model.fit(df[['LAT', 'LON', 'SOG', 'COG', 'Heading', 'Status', 'Draft']])\n",
    "print(model.get_params())\n"
   ]
  },
  {
   "cell_type": "code",
   "execution_count": 25,
   "id": "a599323a-a64e-4334-a671-af07019aebb2",
   "metadata": {
    "scrolled": true
   },
   "outputs": [
    {
     "name": "stdout",
     "output_type": "stream",
     "text": [
      "        MMSI  BaseDateTime       LAT        LON   SOG    COG  Heading  Status  \\\n",
      "0  538007181             0  32.61859 -118.21503  10.7  255.5    255.0     0.0   \n",
      "1  538007181             0  32.61773 -118.21916  10.9  253.7    255.0     0.0   \n",
      "2  538007181             0  32.61685 -118.22330  10.9  257.2    255.0     0.0   \n",
      "3  538007181             0  32.61617 -118.22657  11.0  256.0    255.0     0.0   \n",
      "4  538007181             0  32.61526 -118.23072  10.9  256.2    255.0     0.0   \n",
      "\n",
      "   Draft    scores  anomaly_score  \n",
      "0   13.7 -0.080663             -1  \n",
      "1   13.7 -0.085569             -1  \n",
      "2   13.7 -0.076632             -1  \n",
      "3   13.7 -0.084551             -1  \n",
      "4   13.7 -0.075578             -1  \n"
     ]
    }
   ],
   "source": [
    "df['scores'] = model.decision_function(df[['LAT', 'LON', 'SOG', 'COG', 'Heading', 'Status', 'Draft']])\n",
    "df['anomaly_score'] = model.predict(df[['LAT', 'LON', 'SOG', 'COG', 'Heading', 'Status', 'Draft']])\n",
    "\n",
    "anomalies = df[df['anomaly_score'] == -1]\n",
    "print(anomalies.head())\n"
   ]
  },
  {
   "cell_type": "code",
   "execution_count": 26,
   "id": "cb2ca3df-b566-49ba-bbd0-921f461b8b54",
   "metadata": {},
   "outputs": [],
   "source": [
    "df['anomaly_score'].value_counts()\n",
    "\n",
    "unique_values = df['anomaly_score'].unique()\n"
   ]
  },
  {
   "cell_type": "code",
   "execution_count": 27,
   "id": "bc7eaf7e-cf97-466d-9c07-ebf77841c173",
   "metadata": {},
   "outputs": [
    {
     "data": {
      "text/plain": [
       "array([-1,  1])"
      ]
     },
     "execution_count": 27,
     "metadata": {},
     "output_type": "execute_result"
    }
   ],
   "source": [
    "unique_values"
   ]
  },
  {
   "cell_type": "code",
   "execution_count": 28,
   "id": "25b2fcca-95f2-46e8-b2fa-6edbd736e8f3",
   "metadata": {
    "scrolled": true
   },
   "outputs": [
    {
     "name": "stdout",
     "output_type": "stream",
     "text": [
      "anomaly_score\n",
      " 1    1259\n",
      "-1    1258\n",
      "Name: count, dtype: int64\n"
     ]
    }
   ],
   "source": [
    "print(df['anomaly_score'].value_counts())"
   ]
  },
  {
   "cell_type": "code",
   "execution_count": 29,
   "id": "29a0b106-4f12-425d-bd19-b34aa49c1e83",
   "metadata": {},
   "outputs": [
    {
     "name": "stdout",
     "output_type": "stream",
     "text": [
      "Accuracy of the model: 49.980135081446164\n"
     ]
    }
   ],
   "source": [
    "anomaly_count = df['anomaly_score'].tolist().count(-1)\n",
    "\n",
    "accuracy = 100 * anomaly_count / len(df)\n",
    "\n",
    "print(\"Accuracy of the model:\", accuracy)\n"
   ]
  },
  {
   "cell_type": "code",
   "execution_count": null,
   "id": "6cc8a10e-ee35-45d4-9806-dbd3ef19491a",
   "metadata": {},
   "outputs": [],
   "source": []
  },
  {
   "cell_type": "code",
   "execution_count": null,
   "id": "82cc60b5-d24a-4922-8f3d-38f9547beb20",
   "metadata": {},
   "outputs": [],
   "source": []
  }
 ],
 "metadata": {
  "kernelspec": {
   "display_name": "Python 3 (ipykernel)",
   "language": "python",
   "name": "python3"
  },
  "language_info": {
   "codemirror_mode": {
    "name": "ipython",
    "version": 3
   },
   "file_extension": ".py",
   "mimetype": "text/x-python",
   "name": "python",
   "nbconvert_exporter": "python",
   "pygments_lexer": "ipython3",
   "version": "3.12.3"
  }
 },
 "nbformat": 4,
 "nbformat_minor": 5
}
